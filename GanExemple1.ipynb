{
 "cells": [
  {
   "cell_type": "code",
   "execution_count": 1,
   "id": "c298c6ed",
   "metadata": {},
   "outputs": [],
   "source": [
    "import torch\n",
    "from torch import nn\n",
    "\n",
    "import math\n",
    "import matplotlib.pyplot as plt"
   ]
  },
  {
   "cell_type": "code",
   "execution_count": 2,
   "id": "98af180e",
   "metadata": {},
   "outputs": [
    {
     "data": {
      "text/plain": [
       "<torch._C.Generator at 0x7f9cc19967b0>"
      ]
     },
     "execution_count": 2,
     "metadata": {},
     "output_type": "execute_result"
    }
   ],
   "source": [
    "torch.manual_seed(111)"
   ]
  },
  {
   "cell_type": "code",
   "execution_count": 3,
   "id": "3ed67446",
   "metadata": {},
   "outputs": [],
   "source": [
    "train_data_length = 1024\n",
    "train_data = torch.zeros((train_data_length, 2))\n",
    "train_data[:, 0] = 2 * math.pi * torch.rand(train_data_length)\n",
    "train_data[:, 1] = torch.sin(train_data[:, 0])\n",
    "train_labels = torch.zeros(train_data_length)\n",
    "train_set = [\n",
    "    (train_data[i], train_labels[i]) for i in range(train_data_length)\n",
    "]"
   ]
  },
  {
   "cell_type": "code",
   "execution_count": 4,
   "id": "2ee57503",
   "metadata": {},
   "outputs": [
    {
     "data": {
      "text/plain": [
       "[<matplotlib.lines.Line2D at 0x7f9cc330e4c0>]"
      ]
     },
     "execution_count": 4,
     "metadata": {},
     "output_type": "execute_result"
    },
    {
     "data": {
      "image/png": "[encoded data removed]",
      "text/plain": [
       "<Figure size 640x480 with 1 Axes>"
      ]
     },
     "metadata": {},
     "output_type": "display_data"
    }
   ],
   "source": [
    "plt.plot(train_data[:, 0], train_data[:, 1], \".\")"
   ]
  },
  {
   "cell_type": "code",
   "execution_count": 5,
   "id": "324685cd",
   "metadata": {},
   "outputs": [],
   "source": [
    "batch_size = 32\n",
    "train_loader = torch.utils.data.DataLoader(\n",
    "    train_set, batch_size=batch_size, shuffle=True\n",
    ")"
   ]
  },
  {
   "cell_type": "code",
   "execution_count": 6,
   "id": "ae6a4a60",
   "metadata": {},
   "outputs": [],
   "source": [
    "class Discriminator(nn.Module):\n",
    "    def __init__(self):\n",
    "        super().__init__()\n",
    "        self.model = nn.Sequential(\n",
    "            nn.Linear(2, 256),\n",
    "            nn.ReLU(),\n",
    "            nn.Dropout(0.3),\n",
    "            nn.Linear(256, 128),\n",
    "            nn.ReLU(),\n",
    "            nn.Dropout(0.3),\n",
    "            nn.Linear(128, 64),\n",
    "            nn.ReLU(),\n",
    "            nn.Dropout(0.3),\n",
    "            nn.Linear(64, 1),\n",
    "            nn.Sigmoid(),\n",
    "        )\n",
    "\n",
    "    def forward(self, x):\n",
    "        output = self.model(x)\n",
    "        return output"
   ]
  },
  {
   "cell_type": "code",
   "execution_count": 7,
   "id": "b9e55230",
   "metadata": {},
   "outputs": [],
   "source": [
    "discriminator = Discriminator()"
   ]
  },
  {
   "cell_type": "code",
   "execution_count": 8,
   "id": "cc8397de",
   "metadata": {},
   "outputs": [],
   "source": [
    "class Generator(nn.Module):\n",
    "    def __init__(self):\n",
    "        super().__init__()\n",
    "        self.model = nn.Sequential(\n",
    "            nn.Linear(2, 16),\n",
    "            nn.ReLU(),\n",
    "            nn.Linear(16, 32),\n",
    "            nn.ReLU(),\n",
    "            nn.Linear(32, 2),\n",
    "        )\n",
    "\n",
    "    def forward(self, x):\n",
    "        output = self.model(x)\n",
    "        return output\n",
    "\n",
    "generator = Generator()"
   ]
  },
  {
   "cell_type": "code",
   "execution_count": 9,
   "id": "08a552b8",
   "metadata": {},
   "outputs": [],
   "source": [
    "#set up some parameters to use during training:\n",
    "lr = 0.001 #learning rate\n",
    "num_epochs = 300\n",
    "loss_function = nn.BCELoss() # assigns the variable loss_function to the binary cross-entropy function\n",
    "#(it considers a binary classification task)\n",
    "#It’s also suitable for training the generator since it feeds its output to the discriminator, which provides a binary observable output\n"
   ]
  },
  {
   "cell_type": "code",
   "execution_count": 10,
   "id": "f7790c69",
   "metadata": {},
   "outputs": [],
   "source": [
    "#use the Adam algorithm to train the discriminator and generator models\n",
    "optimizer_discriminator = torch.optim.Adam(discriminator.parameters(), lr=lr)\n",
    "optimizer_generator = torch.optim.Adam(generator.parameters(), lr=lr)\n"
   ]
  },
  {
   "cell_type": "code",
   "execution_count": 11,
   "id": "c34d55c6",
   "metadata": {},
   "outputs": [
    {
     "name": "stdout",
     "output_type": "stream",
     "text": [
      "Epoch: 0 Loss D.: 0.15659493207931519\n",
      "Epoch: 0 Loss G.: 2.125444173812866\n",
      "Epoch: 10 Loss D.: 0.7301512956619263\n",
      "Epoch: 10 Loss G.: 0.8579632043838501\n",
      "Epoch: 20 Loss D.: 0.5762823820114136\n",
      "Epoch: 20 Loss G.: 1.143277645111084\n",
      "Epoch: 30 Loss D.: 0.5193833112716675\n",
      "Epoch: 30 Loss G.: 0.9615720510482788\n",
      "Epoch: 40 Loss D.: 0.5951265692710876\n",
      "Epoch: 40 Loss G.: 0.915814220905304\n",
      "Epoch: 50 Loss D.: 0.599250078201294\n",
      "Epoch: 50 Loss G.: 1.0301467180252075\n",
      "Epoch: 60 Loss D.: 0.6016643643379211\n",
      "Epoch: 60 Loss G.: 0.7793003916740417\n",
      "Epoch: 70 Loss D.: 0.677604079246521\n",
      "Epoch: 70 Loss G.: 0.9261357188224792\n",
      "Epoch: 80 Loss D.: 0.6797552704811096\n",
      "Epoch: 80 Loss G.: 0.6930252909660339\n",
      "Epoch: 90 Loss D.: 0.6635474562644958\n",
      "Epoch: 90 Loss G.: 0.8875333666801453\n",
      "Epoch: 100 Loss D.: 0.6745832562446594\n",
      "Epoch: 100 Loss G.: 0.7624019980430603\n",
      "Epoch: 110 Loss D.: 0.7049751877784729\n",
      "Epoch: 110 Loss G.: 0.6722500920295715\n",
      "Epoch: 120 Loss D.: 0.6821149587631226\n",
      "Epoch: 120 Loss G.: 0.768144428730011\n",
      "Epoch: 130 Loss D.: 0.5167787671089172\n",
      "Epoch: 130 Loss G.: 1.3472203016281128\n",
      "Epoch: 140 Loss D.: 0.6488974094390869\n",
      "Epoch: 140 Loss G.: 0.8309073448181152\n",
      "Epoch: 150 Loss D.: 0.6512314081192017\n",
      "Epoch: 150 Loss G.: 0.708640992641449\n",
      "Epoch: 160 Loss D.: 0.7036918997764587\n",
      "Epoch: 160 Loss G.: 0.6615762114524841\n",
      "Epoch: 170 Loss D.: 0.6959518790245056\n",
      "Epoch: 170 Loss G.: 0.6931661367416382\n",
      "Epoch: 180 Loss D.: 0.715930700302124\n",
      "Epoch: 180 Loss G.: 0.7092962265014648\n",
      "Epoch: 190 Loss D.: 0.6642643809318542\n",
      "Epoch: 190 Loss G.: 0.723999559879303\n",
      "Epoch: 200 Loss D.: 0.6563717126846313\n",
      "Epoch: 200 Loss G.: 0.7054851651191711\n",
      "Epoch: 210 Loss D.: 0.7120988965034485\n",
      "Epoch: 210 Loss G.: 0.7094832062721252\n",
      "Epoch: 220 Loss D.: 0.6750496625900269\n",
      "Epoch: 220 Loss G.: 0.7536428570747375\n",
      "Epoch: 230 Loss D.: 0.6644198298454285\n",
      "Epoch: 230 Loss G.: 0.7344585061073303\n",
      "Epoch: 240 Loss D.: 0.6736651659011841\n",
      "Epoch: 240 Loss G.: 0.7225056290626526\n",
      "Epoch: 250 Loss D.: 0.6741634011268616\n",
      "Epoch: 250 Loss G.: 0.7535911202430725\n",
      "Epoch: 260 Loss D.: 0.7434718012809753\n",
      "Epoch: 260 Loss G.: 0.811815083026886\n",
      "Epoch: 270 Loss D.: 0.6479504704475403\n",
      "Epoch: 270 Loss G.: 0.8415178656578064\n",
      "Epoch: 280 Loss D.: 0.6043815612792969\n",
      "Epoch: 280 Loss G.: 0.7249036431312561\n",
      "Epoch: 290 Loss D.: 0.6688633561134338\n",
      "Epoch: 290 Loss G.: 0.7323838472366333\n"
     ]
    }
   ],
   "source": [
    "#implement a training loop in which training samples are fed to the models, and their weights are updated to minimize the loss function\n",
    "for epoch in range(num_epochs):\n",
    "    for n, (real_samples, _) in enumerate(train_loader):\n",
    "        # Data for training the discriminator\n",
    "        real_samples_labels = torch.ones((batch_size, 1))\n",
    "        latent_space_samples = torch.randn((batch_size, 2))\n",
    "        generated_samples = generator(latent_space_samples)\n",
    "        generated_samples_labels = torch.zeros((batch_size, 1))\n",
    "        all_samples = torch.cat((real_samples, generated_samples))\n",
    "        all_samples_labels = torch.cat(\n",
    "            (real_samples_labels, generated_samples_labels)\n",
    "        )\n",
    "\n",
    "        # Training the discriminator\n",
    "        discriminator.zero_grad()\n",
    "        output_discriminator = discriminator(all_samples)\n",
    "        loss_discriminator = loss_function(\n",
    "            output_discriminator, all_samples_labels)\n",
    "        loss_discriminator.backward()\n",
    "        optimizer_discriminator.step()\n",
    "\n",
    "        # Data for training the generator\n",
    "        latent_space_samples = torch.randn((batch_size, 2))\n",
    "\n",
    "        # Training the generator\n",
    "        generator.zero_grad()\n",
    "        generated_samples = generator(latent_space_samples)\n",
    "        output_discriminator_generated = discriminator(generated_samples)\n",
    "        loss_generator = loss_function(\n",
    "            output_discriminator_generated, real_samples_labels\n",
    "        )\n",
    "        loss_generator.backward()\n",
    "        optimizer_generator.step()\n",
    "\n",
    "        # Show loss\n",
    "        if epoch % 10 == 0 and n == batch_size - 1:\n",
    "            print(f\"Epoch: {epoch} Loss D.: {loss_discriminator}\")\n",
    "            print(f\"Epoch: {epoch} Loss G.: {loss_generator}\")\n"
   ]
  },
  {
   "cell_type": "code",
   "execution_count": 12,
   "id": "a46e9ac2",
   "metadata": {},
   "outputs": [],
   "source": [
    "latent_space_samples = torch.randn(100, 2)\n",
    "generated_samples = generator(latent_space_samples)"
   ]
  },
  {
   "cell_type": "code",
   "execution_count": 13,
   "id": "df83f391",
   "metadata": {},
   "outputs": [
    {
     "data": {
      "text/plain": [
       "[<matplotlib.lines.Line2D at 0x7f9c8537aa00>]"
      ]
     },
     "execution_count": 13,
     "metadata": {},
     "output_type": "execute_result"
    },
    {
     "data": {
      "image/png": "[encoded data removed]",
      "text/plain": [
       "<Figure size 640x480 with 1 Axes>"
      ]
     },
     "metadata": {},
     "output_type": "display_data"
    }
   ],
   "source": [
    "#plot the generated samples and check if they resemble the training data\n",
    "generated_samples = generated_samples.detach() # .detach() to return a tensor from the PyTorch computational graph, which you’ll then use to calculate the gradients\n",
    "plt.plot(generated_samples[:, 0], generated_samples[:, 1], \".\")"
   ]
  },
  {
   "cell_type": "code",
   "execution_count": null,
   "id": "0e14296a",
   "metadata": {},
   "outputs": [],
   "source": []
  }
 ],
 "metadata": {
  "kernelspec": {
   "display_name": "Python 3 (ipykernel)",
   "language": "python",
   "name": "python3"
  },
  "language_info": {
   "codemirror_mode": {
    "name": "ipython",
    "version": 3
   },
   "file_extension": ".py",
   "mimetype": "text/x-python",
   "name": "python",
   "nbconvert_exporter": "python",
   "pygments_lexer": "ipython3",
   "version": "3.8.16"
  }
 },
 "nbformat": 4,
 "nbformat_minor": 5
}
